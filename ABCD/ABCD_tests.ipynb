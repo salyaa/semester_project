{
 "cells": [
  {
   "cell_type": "code",
   "execution_count": null,
   "metadata": {},
   "outputs": [],
   "source": [
    "from juliacall import Main as jl\n",
    "\n",
    "jl.seval(\"using ABCDGraphGenerator\")"
   ]
  },
  {
   "cell_type": "code",
   "execution_count": null,
   "metadata": {},
   "outputs": [],
   "source": [
    "jl.seval(\"w = collect(1:600)\")\n",
    "jl.seval(\"s = fill(600 ÷ 3, 3)\")\n",
    "jl.seval(\"params = ABCDGraphGenerator.ABCDParams(w, s, 0.2, nothing, false, false, false)\")\n",
    "g, gt = jl.seval(\"ABCDGraphGenerator.gen_graph(params)\")"
   ]
  },
  {
   "cell_type": "code",
   "execution_count": null,
   "metadata": {},
   "outputs": [],
   "source": [
    "# Equal-sized communities\n",
    "jl.seval(\"\"\"\n",
    "function generate_equal_community_graphs(n, k, mu, num_graphs)\n",
    "    graphs = []\n",
    "    assignments = []\n",
    "    w = collect(1:n)\n",
    "    s = fill(n ÷ k, k)  \n",
    "    for _ in 1:num_graphs\n",
    "        params = ABCDGraphGenerator.ABCDParams(w, s, mu, nothing, false, false, false)\n",
    "        g, gt = ABCDGraphGenerator.gen_graph(params)\n",
    "        push!(graphs, g)\n",
    "        push!(assignments, gt)\n",
    "    end\n",
    "    return graphs, assignments\n",
    "end\n",
    "\"\"\")\n",
    "graphs_eq, communities_eq = jl.seval(\"generate_equal_community_graphs(300, 3, 0.2, 5)\")"
   ]
  },
  {
   "cell_type": "code",
   "execution_count": null,
   "metadata": {},
   "outputs": [],
   "source": [
    "# Unequal-sized communities\n",
    "jl.seval(\"\"\"\n",
    "function generate_unequal_community_graphs(s::Vector{Int}, mu::Float64, num_graphs::Int)\n",
    "    graphs = []\n",
    "    assignments = []\n",
    "    w = collect(1:sum(s))  # must match sum(s)\n",
    "    for _ in 1:num_graphs\n",
    "        params = ABCDGraphGenerator.ABCDParams(w, s, mu, nothing, false, false, false)\n",
    "        g, gt = ABCDGraphGenerator.gen_graph(params)\n",
    "        push!(graphs, g)\n",
    "        push!(assignments, gt)\n",
    "    end\n",
    "    return graphs, assignments\n",
    "end\n",
    "\"\"\")\n",
    "\n",
    "jl.seval(\"s = [150, 100, 100, 75, 75]\")\n",
    "graphs_uneq, communities_uneq = jl.seval(\"generate_unequal_community_graphs(s, 0.2, 5)\")"
   ]
  },
  {
   "cell_type": "markdown",
   "metadata": {},
   "source": []
  },
  {
   "cell_type": "code",
   "execution_count": null,
   "metadata": {},
   "outputs": [],
   "source": []
  },
  {
   "cell_type": "code",
   "execution_count": 1,
   "metadata": {},
   "outputs": [],
   "source": [
    "from abcd_generation import *"
   ]
  },
  {
   "cell_type": "code",
   "execution_count": 5,
   "metadata": {},
   "outputs": [
    {
     "name": "stdout",
     "output_type": "stream",
     "text": [
      "\n",
      "=== Generating graph 0 with community size 20 ===\n",
      "Configuration file created and saved!\n",
      "Running ABCD graph generation via CLI...\n",
      "Config: conf/same_size/graph_0.toml\n",
      "Script: ABCDSampler.jl\n",
      "----- STDOUT -----\n",
      "Unresolved_collisions: 135; fraction: 0.031461197855977625\n",
      "\n",
      "----- STDERR -----\n",
      "[ Info: Usage: julia abcd_sampler.jl config_filename\n",
      "[ Info: For the syntax of config_filename see example_config.toml file\n",
      "[ Info: Expected value of degree: 8.327743727955891\n",
      "[ Info: Expected value of community size: 20.0\n",
      "┌ Warning: Could not find a large enough cluster for vertices of weights:\n",
      "│ [50, 28].\n",
      "│ Resulting ξ might be slightly biased.\n",
      "└ @ ABCDGraphGenerator ~/ABCDGraphGenerator.jl/src/graph_sampler.jl:145\n",
      "\n",
      "Graph generation completed!\n",
      "Unresolved_collisions: 135; fraction: 0.031461197855977625\n",
      "\n",
      "Loaded graph with 1000 nodes and 4291 edges\n",
      "Loaded community labels into graph\n",
      "\n",
      "=== Generating graph 1 with community size 25 ===\n",
      "Configuration file created and saved!\n",
      "Running ABCD graph generation via CLI...\n",
      "Config: conf/same_size/graph_1.toml\n",
      "Script: ABCDSampler.jl\n",
      "----- STDOUT -----\n",
      "Unresolved_collisions: 94; fraction: 0.0219063155441622\n",
      "\n",
      "----- STDERR -----\n",
      "[ Info: Usage: julia abcd_sampler.jl config_filename\n",
      "[ Info: For the syntax of config_filename see example_config.toml file\n",
      "[ Info: Expected value of degree: 8.327743727955891\n",
      "[ Info: Expected value of community size: 25.0\n",
      "┌ Warning: Could not find a large enough cluster for vertices of weights:\n",
      "│ [50].\n",
      "│ Resulting ξ might be slightly biased.\n",
      "└ @ ABCDGraphGenerator ~/ABCDGraphGenerator.jl/src/graph_sampler.jl:145\n",
      "\n",
      "Graph generation completed!\n",
      "Unresolved_collisions: 94; fraction: 0.0219063155441622\n",
      "\n",
      "Loaded graph with 1000 nodes and 4291 edges\n",
      "Loaded community labels into graph\n",
      "\n",
      "=== Generating graph 2 with community size 40 ===\n",
      "Configuration file created and saved!\n",
      "Running ABCD graph generation via CLI...\n",
      "Config: conf/same_size/graph_2.toml\n",
      "Script: ABCDSampler.jl\n",
      "----- STDOUT -----\n",
      "Unresolved_collisions: 2; fraction: 0.00046609182008855747\n",
      "\n",
      "----- STDERR -----\n",
      "[ Info: Usage: julia abcd_sampler.jl config_filename\n",
      "[ Info: For the syntax of config_filename see example_config.toml file\n",
      "[ Info: Expected value of degree: 8.327743727955891\n",
      "[ Info: Expected value of community size: 40.0\n",
      "┌ Warning: Could not find a large enough cluster for vertices of weights:\n",
      "│ [50].\n",
      "│ Resulting ξ might be slightly biased.\n",
      "└ @ ABCDGraphGenerator ~/ABCDGraphGenerator.jl/src/graph_sampler.jl:145\n",
      "\n",
      "Graph generation completed!\n",
      "Unresolved_collisions: 2; fraction: 0.00046609182008855747\n",
      "\n",
      "Loaded graph with 1000 nodes and 4291 edges\n",
      "Loaded community labels into graph\n"
     ]
    }
   ],
   "source": [
    "graphs = abcd_gen_eq_sizes(range_c=np.array([20, 25, 40]), n=1000)"
   ]
  },
  {
   "cell_type": "code",
   "execution_count": null,
   "metadata": {},
   "outputs": [],
   "source": []
  }
 ],
 "metadata": {
  "kernelspec": {
   "display_name": "semproject",
   "language": "python",
   "name": "python3"
  },
  "language_info": {
   "codemirror_mode": {
    "name": "ipython",
    "version": 3
   },
   "file_extension": ".py",
   "mimetype": "text/x-python",
   "name": "python",
   "nbconvert_exporter": "python",
   "pygments_lexer": "ipython3",
   "version": "3.9.18"
  }
 },
 "nbformat": 4,
 "nbformat_minor": 2
}
