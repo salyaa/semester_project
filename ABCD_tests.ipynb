{
 "cells": [
  {
   "cell_type": "code",
   "execution_count": 1,
   "metadata": {},
   "outputs": [
    {
     "name": "stderr",
     "output_type": "stream",
     "text": [
      "[ Info: Julia version info\n"
     ]
    },
    {
     "name": "stdout",
     "output_type": "stream",
     "text": [
      "Julia Version 1.11.4\n",
      "Commit 8561cc3d68* (2025-03-10 11:36 UTC)\n",
      "Build Info:\n",
      "  Built by Homebrew (v1.11.4)\n",
      "\n",
      "    Note: This is an unofficial build, please report bugs to the project\n",
      "    responsible for this build and not to the Julia project unless you can\n",
      "    reproduce the issue using official builds available at https://julialang.org/downloads\n",
      "\n",
      "Platform Info:\n",
      "  OS: macOS (arm64-apple-darwin23.6.0)\n",
      "  uname: Darwin 23.5.0 Darwin Kernel Version 23.5.0: Wed May  1 20:19:05 PDT 2024; root:xnu-10063.121.3~5/RELEASE_ARM64_T8112 arm64 arm\n",
      "  CPU: Apple M2: \n",
      "              speed         user         nice          sys         idle          irq\n",
      "       #1  2400 MHz     854298 s          0 s     683038 s    2807457 s          0 s\n",
      "       #2  2400 MHz     719919 s          0 s     481800 s    3183762 s          0 s\n",
      "       #3  2400 MHz     613052 s          0 s     380465 s    3429675 s          0 s\n",
      "       #4  2400 MHz     542012 s          0 s     302898 s    3604995 s          0 s\n",
      "       #5  2400 MHz     655675 s          0 s      79973 s    3743085 s          0 s\n",
      "       #6  2400 MHz     401592 s          0 s      48633 s    4055481 s          0 s\n",
      "       #7  2400 MHz     241337 s          0 s      24172 s    4251356 s          0 s\n",
      "       #8  2400 MHz     227086 s          0 s      20248 s    4272355 s          0 s\n",
      "  Memory: 16.0 GB (791.984375 MB free)\n",
      "  Uptime: 1.903434e6 sec\n",
      "  Load Avg:  4.78515625  3.56005859375  2.97265625\n",
      "  WORD_SIZE: 64\n",
      "  LLVM: libLLVM-16.0.6 (ORCJIT, apple-m2)\n",
      "Threads: 1 default, 0 interactive, 1 GC (on 4 virtual cores)\n",
      "Environment:\n",
      "  HOME = /Users/salyadiallo\n",
      "  HOMEBREW_CELLAR = /opt/homebrew/Cellar\n",
      "  HOMEBREW_PREFIX = /opt/homebrew\n",
      "  HOMEBREW_REPOSITORY = /opt/homebrew\n",
      "  INFOPATH = /opt/homebrew/share/info:\n",
      "  MANPATH = /Users/salyadiallo/.nvm/versions/node/v15.14.0/share/man:/opt/local/share/man:\n",
      "  NVM_CD_FLAGS = -q\n",
      "  PATH = /Users/salyadiallo/anaconda3/envs/semproject/bin:/Users/salyadiallo/.nvm/versions/node/v15.14.0/bin:/Users/salyadiallo/anaconda3/envs/semproject/bin:/Users/salyadiallo/anaconda3/condabin:/opt/local/bin:/opt/local/sbin:/opt/homebrew/bin:/opt/homebrew/sbin:/Library/Frameworks/Python.framework/Versions/3.9/bin:/usr/local/bin:/System/Cryptexes/App/usr/bin:/usr/bin:/bin:/usr/sbin:/sbin:/var/run/com.apple.security.cryptexd/codex.system/bootstrap/usr/local/bin:/var/run/com.apple.security.cryptexd/codex.system/bootstrap/usr/bin:/var/run/com.apple.security.cryptexd/codex.system/bootstrap/usr/appleinternal/bin:/Library/Apple/usr/bin:/Users/salyadiallo/.cargo/bin:/Users/salyadiallo/Library/Application Support/Coursier/bin:/Users/salyadiallo/.local/bin:/Users/salyadiallo/.local/bin\n",
      "  VSCODE_CODE_CACHE_PATH = /Users/salyadiallo/Library/Application Support/Code/CachedData/e54c774e0add60467559eb0d1e229c6452cf8447\n",
      "  XPC_FLAGS = 0x0\n",
      "  TERM = xterm-color\n"
     ]
    },
    {
     "name": "stderr",
     "output_type": "stream",
     "text": [
      "[ Info: Julia executable: /opt/homebrew/Cellar/julia/1.11.4/bin/julia\n",
      "[ Info: Trying to import PyCall...\n",
      "┌ Info: PyCall is already installed and compatible with Python executable.\n",
      "│ \n",
      "│ PyCall:\n",
      "│     python: /Users/salyadiallo/anaconda3/envs/semproject/bin/python\n",
      "│     libpython: /Users/salyadiallo/anaconda3/envs/semproject/lib/libpython3.9.dylib\n",
      "│ Python:\n",
      "│     python: /Users/salyadiallo/anaconda3/envs/semproject/bin/python\n",
      "└     libpython: \n"
     ]
    }
   ],
   "source": [
    "import julia\n",
    "julia.install()"
   ]
  },
  {
   "cell_type": "code",
   "execution_count": null,
   "metadata": {},
   "outputs": [
    {
     "name": "stderr",
     "output_type": "stream",
     "text": [
      "WARNING: import of MainInclude.eval into Main conflicts with an existing identifier; ignored.\n",
      "WARNING: could not import MainInclude.include into Main\n",
      "WARNING: import of MainInclude.eval into Main conflicts with an existing identifier; ignored.\n",
      "WARNING: could not import MainInclude.include into Main\n",
      "  Activating project at `~/ABCDGraphGenerator.jl`\n"
     ]
    },
    {
     "ename": "",
     "evalue": "",
     "output_type": "error",
     "traceback": [
      "\u001b[1;31mThe Kernel crashed while executing code in the current cell or a previous cell. \n",
      "\u001b[1;31mPlease review the code in the cell(s) to identify a possible cause of the failure. \n",
      "\u001b[1;31mClick <a href='https://aka.ms/vscodeJupyterKernelCrash'>here</a> for more info. \n",
      "\u001b[1;31mView Jupyter <a href='command:jupyter.viewOutput'>log</a> for further details."
     ]
    }
   ],
   "source": [
    "from julia.api import Julia\n",
    "jl = Julia(compiled_modules=False)\n",
    "\n",
    "from julia import Main\n",
    "\n",
    "Main.eval('import Pkg')\n",
    "Main.eval('Pkg.activate(\"/Users/salyadiallo/ABCDGraphGenerator.jl\")')\n",
    "Main.eval('Pkg.instantiate()')\n",
    "\n",
    "Main.eval('using ABCDGraphGenerator')\n"
   ]
  },
  {
   "cell_type": "code",
   "execution_count": null,
   "metadata": {},
   "outputs": [
    {
     "name": "stderr",
     "output_type": "stream",
     "text": [
      "┌ Warning: Could not find a large enough cluster for vertices of weights:\n",
      "│ [500, 400, 300, 200].\n",
      "│ Resulting ξ might be slightly biased.\n",
      "└ @ ABCDGraphGenerator ~/ABCDGraphGenerator.jl/src/graph_sampler.jl:145\n",
      "┌ Warning: Could not find a large enough cluster for vertices of weights:\n",
      "│ [500, 400, 300, 200].\n",
      "│ Resulting ξ might be slightly biased.\n",
      "└ @ ABCDGraphGenerator ~/ABCDGraphGenerator.jl/src/graph_sampler.jl:145\n",
      "┌ Warning: Could not find a large enough cluster for vertices of weights:\n",
      "│ [500, 400, 300, 200].\n",
      "│ Resulting ξ might be slightly biased.\n",
      "└ @ ABCDGraphGenerator ~/ABCDGraphGenerator.jl/src/graph_sampler.jl:145\n",
      "┌ Warning: Could not find a large enough cluster for vertices of weights:\n",
      "│ [500, 400, 300, 200].\n",
      "│ Resulting ξ might be slightly biased.\n",
      "└ @ ABCDGraphGenerator ~/ABCDGraphGenerator.jl/src/graph_sampler.jl:145\n",
      "┌ Warning: Could not find a large enough cluster for vertices of weights:\n",
      "│ [500, 400, 300, 200].\n",
      "│ Resulting ξ might be slightly biased.\n",
      "└ @ ABCDGraphGenerator ~/ABCDGraphGenerator.jl/src/graph_sampler.jl:145\n"
     ]
    }
   ],
   "source": [
    "# Equal-sized communities\n",
    "Main.eval(\"\"\"\n",
    "function generate_equal_community_graphs(n, k, mu, num_graphs)\n",
    "    graphs = []\n",
    "    assignments = []\n",
    "    w = collect(1:n)\n",
    "    s = fill(n ÷ k, k)  # equal group sizes\n",
    "    for _ in 1:num_graphs\n",
    "        params = ABCDGraphGenerator.ABCDParams(w, s, mu, nothing, false, false, false)\n",
    "        g, gt = ABCDGraphGenerator.gen_graph(params)\n",
    "        push!(graphs, g)\n",
    "        push!(assignments, gt)\n",
    "    end\n",
    "    return graphs, assignments\n",
    "end\n",
    "\"\"\")\n",
    "graphs_eq, communities_eq = Main.eval(\"generate_equal_community_graphs(500, 5, 0.2, 5)\")"
   ]
  },
  {
   "cell_type": "code",
   "execution_count": null,
   "metadata": {},
   "outputs": [],
   "source": [
    "graphs_eq, communities_eq = Main.eval(\"generate_equal_community_graphs(500, 5, 0.1, 5)\")"
   ]
  },
  {
   "cell_type": "code",
   "execution_count": null,
   "metadata": {},
   "outputs": [],
   "source": [
    "# Unequal-sized communities\n",
    "Main.eval(\"\"\"\n",
    "function generate_unequal_community_graphs(s::Vector{Int}, mu::Float64, num_graphs::Int)\n",
    "    graphs = []\n",
    "    assignments = []\n",
    "    w = collect(1:sum(s))  # must match sum(s)\n",
    "    for _ in 1:num_graphs\n",
    "        params = ABCDGraphGenerator.ABCDParams(w, s, mu, nothing, false, false, false)\n",
    "        g, gt = ABCDGraphGenerator.gen_graph(params)\n",
    "        push!(graphs, g)\n",
    "        push!(assignments, gt)\n",
    "    end\n",
    "    return graphs, assignments\n",
    "end\n",
    "\"\"\")\n",
    "\n",
    "Main.eval(\"s = [150, 100, 100, 75, 75]\")\n",
    "graphs_uneq, communities_uneq = Main.eval(\"generate_unequal_community_graphs(s, 0.2, 5)\")"
   ]
  },
  {
   "cell_type": "code",
   "execution_count": null,
   "metadata": {},
   "outputs": [],
   "source": [
    "# For example: sizes [150, 100, 100, 75, 75] → sum = 500\n",
    "Main.eval(\"s = [150, 100, 100, 75, 75]\")\n",
    "graphs_uneq, communities_uneq = Main.eval(\"generate_unequal_community_graphs(s, 0.2, 5)\")\n"
   ]
  },
  {
   "cell_type": "code",
   "execution_count": null,
   "metadata": {},
   "outputs": [],
   "source": []
  }
 ],
 "metadata": {
  "kernelspec": {
   "display_name": "semproject",
   "language": "python",
   "name": "python3"
  },
  "language_info": {
   "codemirror_mode": {
    "name": "ipython",
    "version": 3
   },
   "file_extension": ".py",
   "mimetype": "text/x-python",
   "name": "python",
   "nbconvert_exporter": "python",
   "pygments_lexer": "ipython3",
   "version": "3.9.18"
  }
 },
 "nbformat": 4,
 "nbformat_minor": 2
}
