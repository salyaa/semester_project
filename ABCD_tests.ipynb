{
 "cells": [
  {
   "cell_type": "code",
   "execution_count": 1,
   "metadata": {},
   "outputs": [
    {
     "name": "stderr",
     "output_type": "stream",
     "text": [
      "[ Info: Julia version info\n"
     ]
    },
    {
     "name": "stdout",
     "output_type": "stream",
     "text": [
      "Julia Version 1.11.4\n",
      "Commit 8561cc3d68* (2025-03-10 11:36 UTC)\n",
      "Build Info:\n",
      "  Built by Homebrew (v1.11.4)\n",
      "\n",
      "    Note: This is an unofficial build, please report bugs to the project\n",
      "    responsible for this build and not to the Julia project unless you can\n",
      "    reproduce the issue using official builds available at https://julialang.org/downloads\n",
      "\n",
      "Platform Info:\n",
      "  OS: macOS (arm64-apple-darwin23.6.0)\n",
      "  uname: Darwin 23.5.0 Darwin Kernel Version 23.5.0: Wed May  1 20:19:05 PDT 2024; root:xnu-10063.121.3~5/RELEASE_ARM64_T8112 arm64 arm\n",
      "  CPU: Apple M2: \n",
      "              speed         user         nice          sys         idle          irq\n",
      "       #1  2400 MHz     667858 s          0 s     526555 s    2282240 s          0 s\n",
      "       #2  2400 MHz     565130 s          0 s     371950 s    2570293 s          0 s\n",
      "       #3  2400 MHz     483326 s          0 s     292862 s    2759852 s          0 s\n",
      "       #4  2400 MHz     428298 s          0 s     233398 s    2894549 s          0 s\n",
      "       #5  2400 MHz     491549 s          0 s      65003 s    3019598 s          0 s\n",
      "       #6  2400 MHz     309080 s          0 s      40254 s    3247707 s          0 s\n",
      "       #7  2400 MHz     187516 s          0 s      19804 s    3398456 s          0 s\n",
      "       #8  2400 MHz     175042 s          0 s      16599 s    3416458 s          0 s\n",
      "  Memory: 16.0 GB (442.53125 MB free)\n",
      "  Uptime: 1.491169e6 sec\n",
      "  Load Avg:  4.9462890625  5.27978515625  4.98681640625\n",
      "  WORD_SIZE: 64\n",
      "  LLVM: libLLVM-16.0.6 (ORCJIT, apple-m2)\n",
      "Threads: 1 default, 0 interactive, 1 GC (on 4 virtual cores)\n",
      "Environment:\n",
      "  HOME = /Users/salyadiallo\n",
      "  HOMEBREW_CELLAR = /opt/homebrew/Cellar\n",
      "  HOMEBREW_PREFIX = /opt/homebrew\n",
      "  HOMEBREW_REPOSITORY = /opt/homebrew\n",
      "  INFOPATH = /opt/homebrew/share/info:\n",
      "  MANPATH = /Users/salyadiallo/.nvm/versions/node/v15.14.0/share/man:/opt/local/share/man:\n",
      "  NVM_CD_FLAGS = -q\n",
      "  PATH = /Users/salyadiallo/anaconda3/envs/semproject/bin:/Users/salyadiallo/.nvm/versions/node/v15.14.0/bin:/Users/salyadiallo/anaconda3/envs/semproject/bin:/Users/salyadiallo/anaconda3/condabin:/opt/local/bin:/opt/local/sbin:/opt/homebrew/bin:/opt/homebrew/sbin:/Library/Frameworks/Python.framework/Versions/3.9/bin:/usr/local/bin:/System/Cryptexes/App/usr/bin:/usr/bin:/bin:/usr/sbin:/sbin:/var/run/com.apple.security.cryptexd/codex.system/bootstrap/usr/local/bin:/var/run/com.apple.security.cryptexd/codex.system/bootstrap/usr/bin:/var/run/com.apple.security.cryptexd/codex.system/bootstrap/usr/appleinternal/bin:/Library/Apple/usr/bin:/Users/salyadiallo/.cargo/bin:/Users/salyadiallo/Library/Application Support/Coursier/bin:/Users/salyadiallo/.local/bin:/Users/salyadiallo/.local/bin\n",
      "  VSCODE_CODE_CACHE_PATH = /Users/salyadiallo/Library/Application Support/Code/CachedData/e54c774e0add60467559eb0d1e229c6452cf8447\n",
      "  XPC_FLAGS = 0x0\n",
      "  TERM = xterm-color\n"
     ]
    },
    {
     "name": "stderr",
     "output_type": "stream",
     "text": [
      "[ Info: Julia executable: /opt/homebrew/Cellar/julia/1.11.4/bin/julia\n",
      "[ Info: Trying to import PyCall...\n",
      "┌ Info: PyCall is already installed and compatible with Python executable.\n",
      "│ \n",
      "│ PyCall:\n",
      "│     python: /Users/salyadiallo/anaconda3/envs/semproject/bin/python\n",
      "│     libpython: /Users/salyadiallo/anaconda3/envs/semproject/lib/libpython3.9.dylib\n",
      "│ Python:\n",
      "│     python: /Users/salyadiallo/anaconda3/envs/semproject/bin/python\n",
      "└     libpython: \n"
     ]
    }
   ],
   "source": [
    "import julia\n",
    "julia.install()"
   ]
  },
  {
   "cell_type": "code",
   "execution_count": 2,
   "metadata": {},
   "outputs": [
    {
     "name": "stderr",
     "output_type": "stream",
     "text": [
      "WARNING: import of MainInclude.eval into Main conflicts with an existing identifier; ignored.\n",
      "WARNING: could not import MainInclude.include into Main\n",
      "WARNING: import of MainInclude.eval into Main conflicts with an existing identifier; ignored.\n",
      "WARNING: could not import MainInclude.include into Main\n",
      "  Activating project at `~/ABCDGraphGenerator.jl`\n"
     ]
    }
   ],
   "source": [
    "from julia.api import Julia\n",
    "jl = Julia(compiled_modules=False)\n",
    "\n",
    "from julia import Main\n",
    "\n",
    "Main.eval('import Pkg')\n",
    "Main.eval('Pkg.activate(\"/Users/salyadiallo/ABCDGraphGenerator.jl\")')\n",
    "Main.eval('Pkg.instantiate()')\n",
    "\n",
    "Main.eval('using ABCDGraphGenerator')\n"
   ]
  },
  {
   "cell_type": "code",
   "execution_count": 3,
   "metadata": {},
   "outputs": [
    {
     "name": "stdout",
     "output_type": "stream",
     "text": [
      "['ABCDGraphGenerator']\n"
     ]
    }
   ],
   "source": [
    "Main.eval(\"using ABCDGraphGenerator\")\n",
    "\n",
    "functions = Main.eval(\"names(ABCDGraphGenerator)\")\n",
    "print(functions) "
   ]
  },
  {
   "cell_type": "code",
   "execution_count": 5,
   "metadata": {},
   "outputs": [],
   "source": [
    "graph = Main.eval(\"ABCDGraphGenerator.gen_graph\")"
   ]
  },
  {
   "cell_type": "code",
   "execution_count": 7,
   "metadata": {},
   "outputs": [
    {
     "data": {
      "text/plain": [
       "5364543264"
      ]
     },
     "execution_count": 7,
     "metadata": {},
     "output_type": "execute_result"
    }
   ],
   "source": [
    "graph.jl_value"
   ]
  },
  {
   "cell_type": "code",
   "execution_count": null,
   "metadata": {},
   "outputs": [],
   "source": []
  }
 ],
 "metadata": {
  "kernelspec": {
   "display_name": "semproject",
   "language": "python",
   "name": "python3"
  },
  "language_info": {
   "codemirror_mode": {
    "name": "ipython",
    "version": 3
   },
   "file_extension": ".py",
   "mimetype": "text/x-python",
   "name": "python",
   "nbconvert_exporter": "python",
   "pygments_lexer": "ipython3",
   "version": "3.9.18"
  }
 },
 "nbformat": 4,
 "nbformat_minor": 2
}
