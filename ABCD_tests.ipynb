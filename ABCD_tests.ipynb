{
 "cells": [
  {
   "cell_type": "code",
   "execution_count": 1,
   "metadata": {},
   "outputs": [
    {
     "name": "stderr",
     "output_type": "stream",
     "text": [
      "[ Info: Julia version info\n"
     ]
    },
    {
     "name": "stdout",
     "output_type": "stream",
     "text": [
      "Julia Version 1.11.4\n",
      "Commit 8561cc3d68* (2025-03-10 11:36 UTC)\n",
      "Build Info:\n",
      "  Built by Homebrew (v1.11.4)\n",
      "\n",
      "    Note: This is an unofficial build, please report bugs to the project\n",
      "    responsible for this build and not to the Julia project unless you can\n",
      "    reproduce the issue using official builds available at https://julialang.org/downloads\n",
      "\n",
      "Platform Info:\n",
      "  OS: macOS (arm64-apple-darwin23.6.0)\n",
      "  uname: Darwin 23.5.0 Darwin Kernel Version 23.5.0: Wed May  1 20:19:05 PDT 2024; root:xnu-10063.121.3~5/RELEASE_ARM64_T8112 arm64 arm\n",
      "  CPU: Apple M2: \n",
      "              speed         user         nice          sys         idle          irq\n",
      "       #1  2400 MHz     654542 s          0 s     515580 s    2219272 s          0 s\n",
      "       #2  2400 MHz     553454 s          0 s     363484 s    2502453 s          0 s\n",
      "       #3  2400 MHz     473403 s          0 s     286662 s    2687225 s          0 s\n",
      "       #4  2400 MHz     419940 s          0 s     228930 s    2818053 s          0 s\n",
      "       #5  2400 MHz     488680 s          0 s      64475 s    2932630 s          0 s\n",
      "       #6  2400 MHz     307082 s          0 s      39887 s    3159508 s          0 s\n",
      "       #7  2400 MHz     186400 s          0 s      19614 s    3309152 s          0 s\n",
      "       #8  2400 MHz     173741 s          0 s      16378 s    3327366 s          0 s\n",
      "  Memory: 16.0 GB (508.5625 MB free)\n",
      "  Uptime: 1.473139e6 sec\n",
      "  Load Avg:  2.5830078125  2.89892578125  3.00146484375\n",
      "  WORD_SIZE: 64\n",
      "  LLVM: libLLVM-16.0.6 (ORCJIT, apple-m2)\n",
      "Threads: 1 default, 0 interactive, 1 GC (on 4 virtual cores)\n",
      "Environment:\n",
      "  HOME = /Users/salyadiallo\n",
      "  HOMEBREW_CELLAR = /opt/homebrew/Cellar\n",
      "  HOMEBREW_PREFIX = /opt/homebrew\n",
      "  HOMEBREW_REPOSITORY = /opt/homebrew\n",
      "  INFOPATH = /opt/homebrew/share/info:\n",
      "  MANPATH = /Users/salyadiallo/.nvm/versions/node/v15.14.0/share/man:/opt/local/share/man:\n",
      "  NVM_CD_FLAGS = -q\n",
      "  PATH = /Users/salyadiallo/anaconda3/envs/semproject/bin:/Users/salyadiallo/.nvm/versions/node/v15.14.0/bin:/Users/salyadiallo/anaconda3/envs/semproject/bin:/Users/salyadiallo/anaconda3/condabin:/opt/local/bin:/opt/local/sbin:/opt/homebrew/bin:/opt/homebrew/sbin:/Library/Frameworks/Python.framework/Versions/3.9/bin:/usr/local/bin:/System/Cryptexes/App/usr/bin:/usr/bin:/bin:/usr/sbin:/sbin:/var/run/com.apple.security.cryptexd/codex.system/bootstrap/usr/local/bin:/var/run/com.apple.security.cryptexd/codex.system/bootstrap/usr/bin:/var/run/com.apple.security.cryptexd/codex.system/bootstrap/usr/appleinternal/bin:/Library/Apple/usr/bin:/Users/salyadiallo/.cargo/bin:/Users/salyadiallo/Library/Application Support/Coursier/bin:/Users/salyadiallo/.local/bin:/Users/salyadiallo/.local/bin\n",
      "  VSCODE_CODE_CACHE_PATH = /Users/salyadiallo/Library/Application Support/Code/CachedData/e54c774e0add60467559eb0d1e229c6452cf8447\n",
      "  XPC_FLAGS = 0x0\n",
      "  TERM = xterm-color\n"
     ]
    },
    {
     "name": "stderr",
     "output_type": "stream",
     "text": [
      "[ Info: Julia executable: /opt/homebrew/Cellar/julia/1.11.4/bin/julia\n",
      "[ Info: Trying to import PyCall...\n",
      "┌ Info: PyCall is already installed and compatible with Python executable.\n",
      "│ \n",
      "│ PyCall:\n",
      "│     python: /Users/salyadiallo/anaconda3/envs/semproject/bin/python\n",
      "│     libpython: /Users/salyadiallo/anaconda3/envs/semproject/lib/libpython3.9.dylib\n",
      "│ Python:\n",
      "│     python: /Users/salyadiallo/anaconda3/envs/semproject/bin/python\n",
      "└     libpython: \n"
     ]
    }
   ],
   "source": [
    "import julia\n",
    "julia.install()"
   ]
  },
  {
   "cell_type": "code",
   "execution_count": 3,
   "metadata": {},
   "outputs": [
    {
     "name": "stderr",
     "output_type": "stream",
     "text": [
      "WARNING: import of MainInclude.eval into Main conflicts with an existing identifier; ignored.\n",
      "WARNING: could not import MainInclude.include into Main\n",
      "  Activating project at `~/ABCDGraphGenerator.jl`\n"
     ]
    }
   ],
   "source": [
    "from julia.api import Julia\n",
    "jl = Julia(compiled_modules=False)\n",
    "\n",
    "from julia import Main\n",
    "\n",
    "# Activate Julia environment\n",
    "Main.eval('import Pkg')\n",
    "Main.eval('Pkg.activate(\"/Users/salyadiallo/ABCDGraphGenerator.jl\")')  # Use the correct absolute path\n",
    "Main.eval('Pkg.instantiate()')\n",
    "\n",
    "# Try importing the package\n",
    "Main.eval('using ABCDGraphGenerator')\n"
   ]
  },
  {
   "cell_type": "code",
   "execution_count": 4,
   "metadata": {},
   "outputs": [
    {
     "name": "stdout",
     "output_type": "stream",
     "text": [
      "['ABCDGraphGenerator']\n"
     ]
    }
   ],
   "source": [
    "from julia import Main\n",
    "\n",
    "# Ensure ABCDGraphGenerator is loaded\n",
    "Main.eval(\"using ABCDGraphGenerator\")\n",
    "\n",
    "# Check available functions in the module\n",
    "functions = Main.eval(\"names(ABCDGraphGenerator)\")\n",
    "print(functions)  # This will list all available functions\n"
   ]
  },
  {
   "cell_type": "code",
   "execution_count": 5,
   "metadata": {},
   "outputs": [
    {
     "ename": "JuliaError",
     "evalue": "Exception 'UndefVarError: `generate_ABCD_graph` not defined in `ABCDGraphGenerator`\nSuggestion: check for spelling errors or missing imports.' occurred while calling julia code:\nABCDGraphGenerator.generate_ABCD_graph(100, 2, 0.3, 0.1)",
     "output_type": "error",
     "traceback": [
      "\u001b[0;31m---------------------------------------------------------------------------\u001b[0m",
      "\u001b[0;31mJuliaError\u001b[0m                                Traceback (most recent call last)",
      "Cell \u001b[0;32mIn[5], line 1\u001b[0m\n\u001b[0;32m----> 1\u001b[0m graph \u001b[38;5;241m=\u001b[39m \u001b[43mMain\u001b[49m\u001b[38;5;241;43m.\u001b[39;49m\u001b[43meval\u001b[49m\u001b[43m(\u001b[49m\u001b[38;5;124;43m\"\u001b[39;49m\u001b[38;5;124;43mABCDGraphGenerator.generate_ABCD_graph(100, 2, 0.3, 0.1)\u001b[39;49m\u001b[38;5;124;43m\"\u001b[39;49m\u001b[43m)\u001b[49m\n",
      "File \u001b[0;32m~/anaconda3/envs/semproject/lib/python3.9/site-packages/julia/core.py:633\u001b[0m, in \u001b[0;36mJulia.eval\u001b[0;34m(self, src)\u001b[0m\n\u001b[1;32m    631\u001b[0m \u001b[38;5;28;01mif\u001b[39;00m src \u001b[38;5;129;01mis\u001b[39;00m \u001b[38;5;28;01mNone\u001b[39;00m:\n\u001b[1;32m    632\u001b[0m     \u001b[38;5;28;01mreturn\u001b[39;00m \u001b[38;5;28;01mNone\u001b[39;00m\n\u001b[0;32m--> 633\u001b[0m ans \u001b[38;5;241m=\u001b[39m \u001b[38;5;28;43mself\u001b[39;49m\u001b[38;5;241;43m.\u001b[39;49m\u001b[43m_call\u001b[49m\u001b[43m(\u001b[49m\u001b[43msrc\u001b[49m\u001b[43m)\u001b[49m\n\u001b[1;32m    634\u001b[0m \u001b[38;5;28;01mif\u001b[39;00m \u001b[38;5;129;01mnot\u001b[39;00m ans:\n\u001b[1;32m    635\u001b[0m     \u001b[38;5;28;01mreturn\u001b[39;00m \u001b[38;5;28;01mNone\u001b[39;00m\n",
      "File \u001b[0;32m~/anaconda3/envs/semproject/lib/python3.9/site-packages/julia/core.py:561\u001b[0m, in \u001b[0;36mJulia._call\u001b[0;34m(self, src)\u001b[0m\n\u001b[1;32m    559\u001b[0m \u001b[38;5;66;03m# logger.debug(\"_call(%s)\", src)\u001b[39;00m\n\u001b[1;32m    560\u001b[0m ans \u001b[38;5;241m=\u001b[39m \u001b[38;5;28mself\u001b[39m\u001b[38;5;241m.\u001b[39mapi\u001b[38;5;241m.\u001b[39mjl_eval_string(src\u001b[38;5;241m.\u001b[39mencode(\u001b[38;5;124m'\u001b[39m\u001b[38;5;124mutf-8\u001b[39m\u001b[38;5;124m'\u001b[39m))\n\u001b[0;32m--> 561\u001b[0m \u001b[38;5;28;43mself\u001b[39;49m\u001b[38;5;241;43m.\u001b[39;49m\u001b[43mcheck_exception\u001b[49m\u001b[43m(\u001b[49m\u001b[43msrc\u001b[49m\u001b[43m)\u001b[49m\n\u001b[1;32m    563\u001b[0m \u001b[38;5;28;01mreturn\u001b[39;00m ans\n",
      "File \u001b[0;32m~/anaconda3/envs/semproject/lib/python3.9/site-packages/julia/core.py:615\u001b[0m, in \u001b[0;36mJulia.check_exception\u001b[0;34m(self, src)\u001b[0m\n\u001b[1;32m    613\u001b[0m \u001b[38;5;28;01melse\u001b[39;00m:\n\u001b[1;32m    614\u001b[0m     exception \u001b[38;5;241m=\u001b[39m sprint(showerror, \u001b[38;5;28mself\u001b[39m\u001b[38;5;241m.\u001b[39m_as_pyobj(res))\n\u001b[0;32m--> 615\u001b[0m \u001b[38;5;28;01mraise\u001b[39;00m JuliaError(\u001b[38;5;124mu\u001b[39m\u001b[38;5;124m'\u001b[39m\u001b[38;5;124mException \u001b[39m\u001b[38;5;130;01m\\'\u001b[39;00m\u001b[38;5;132;01m{}\u001b[39;00m\u001b[38;5;130;01m\\'\u001b[39;00m\u001b[38;5;124m occurred while calling julia code:\u001b[39m\u001b[38;5;130;01m\\n\u001b[39;00m\u001b[38;5;132;01m{}\u001b[39;00m\u001b[38;5;124m'\u001b[39m\n\u001b[1;32m    616\u001b[0m                  \u001b[38;5;241m.\u001b[39mformat(exception, src))\n",
      "\u001b[0;31mJuliaError\u001b[0m: Exception 'UndefVarError: `generate_ABCD_graph` not defined in `ABCDGraphGenerator`\nSuggestion: check for spelling errors or missing imports.' occurred while calling julia code:\nABCDGraphGenerator.generate_ABCD_graph(100, 2, 0.3, 0.1)"
     ]
    }
   ],
   "source": [
    "graph = Main.eval(\"ABCDGraphGenerator.generate_ABCD_graph(100, 2, 0.3, 0.1)\")"
   ]
  },
  {
   "cell_type": "code",
   "execution_count": null,
   "metadata": {},
   "outputs": [],
   "source": []
  }
 ],
 "metadata": {
  "kernelspec": {
   "display_name": "semproject",
   "language": "python",
   "name": "python3"
  },
  "language_info": {
   "codemirror_mode": {
    "name": "ipython",
    "version": 3
   },
   "file_extension": ".py",
   "mimetype": "text/x-python",
   "name": "python",
   "nbconvert_exporter": "python",
   "pygments_lexer": "ipython3",
   "version": "3.9.18"
  }
 },
 "nbformat": 4,
 "nbformat_minor": 2
}
